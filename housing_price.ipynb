{
  "metadata": {
    "kernelspec": {
      "language": "python",
      "display_name": "Python 3",
      "name": "python3"
    },
    "language_info": {
      "name": "python",
      "version": "3.10.12",
      "mimetype": "text/x-python",
      "codemirror_mode": {
        "name": "ipython",
        "version": 3
      },
      "pygments_lexer": "ipython3",
      "nbconvert_exporter": "python",
      "file_extension": ".py"
    },
    "kaggle": {
      "accelerator": "none",
      "dataSources": [
        {
          "sourceId": 10211,
          "databundleVersionId": 111096,
          "sourceType": "competition"
        }
      ],
      "dockerImageVersionId": 30839,
      "isInternetEnabled": true,
      "language": "python",
      "sourceType": "notebook",
      "isGpuEnabled": false
    },
    "colab": {
      "name": "housing price",
      "provenance": []
    }
  },
  "nbformat_minor": 0,
  "nbformat": 4,
  "cells": [
    {
      "source": [
        "# IMPORTANT: SOME KAGGLE DATA SOURCES ARE PRIVATE\n",
        "# RUN THIS CELL IN ORDER TO IMPORT YOUR KAGGLE DATA SOURCES.\n",
        "import kagglehub\n",
        "kagglehub.login()\n"
      ],
      "metadata": {
        "id": "afJ_MCTVpRKw"
      },
      "cell_type": "code",
      "outputs": [],
      "execution_count": null
    },
    {
      "source": [
        "# IMPORTANT: RUN THIS CELL IN ORDER TO IMPORT YOUR KAGGLE DATA SOURCES,\n",
        "# THEN FEEL FREE TO DELETE THIS CELL.\n",
        "# NOTE: THIS NOTEBOOK ENVIRONMENT DIFFERS FROM KAGGLE'S PYTHON\n",
        "# ENVIRONMENT SO THERE MAY BE MISSING LIBRARIES USED BY YOUR\n",
        "# NOTEBOOK.\n",
        "\n",
        "home_data_for_ml_course_path = kagglehub.competition_download('home-data-for-ml-course')\n",
        "\n",
        "print('Data source import complete.')\n"
      ],
      "metadata": {
        "id": "nX0MUDgZpRK2"
      },
      "cell_type": "code",
      "outputs": [],
      "execution_count": null
    },
    {
      "cell_type": "code",
      "source": [
        "# This Python 3 environment comes with many helpful analytics libraries installed\n",
        "# It is defined by the kaggle/python Docker image: https://github.com/kaggle/docker-python\n",
        "# For example, here's several helpful packages to load\n",
        "\n",
        "import numpy as np # linear algebra\n",
        "import pandas as pd # data processing, CSV file I/O (e.g. pd.read_csv)\n",
        "\n",
        "# Input data files are available in the read-only \"../input/\" directory\n",
        "# For example, running this (by clicking run or pressing Shift+Enter) will list all files under the input directory\n",
        "\n",
        "import os\n",
        "for dirname, _, filenames in os.walk('/kaggle/input'):\n",
        "    for filename in filenames:\n",
        "        print(os.path.join(dirname, filename))\n",
        "\n",
        "# You can write up to 20GB to the current directory (/kaggle/working/) that gets preserved as output when you create a version using \"Save & Run All\"\n",
        "# You can also write temporary files to /kaggle/temp/, but they won't be saved outside of the current session"
      ],
      "metadata": {
        "_uuid": "8f2839f25d086af736a60e9eeb907d3b93b6e0e5",
        "_cell_guid": "b1076dfc-b9ad-4769-8c92-a6c4dae69d19",
        "trusted": true,
        "execution": {
          "iopub.status.busy": "2025-01-23T17:45:46.624541Z",
          "iopub.execute_input": "2025-01-23T17:45:46.6249Z",
          "iopub.status.idle": "2025-01-23T17:45:46.636128Z",
          "shell.execute_reply.started": "2025-01-23T17:45:46.624868Z",
          "shell.execute_reply": "2025-01-23T17:45:46.634779Z"
        },
        "id": "MXw_MM0JpRK4"
      },
      "outputs": [],
      "execution_count": null
    },
    {
      "cell_type": "code",
      "source": [
        "from sklearn.model_selection import train_test_split\n",
        "\n",
        "trainFilepath = \"/kaggle/input/home-data-for-ml-course/train.csv\"\n",
        "trainData = pd.read_csv(trainFilepath)\n",
        "\n",
        "y = trainData.SalePrice\n",
        "\n",
        "features = [\"MSZoning\", \"Street\", \"Alley\", \"LotArea\", \"OverallQual\", \"OverallCond\", \"YearBuilt\", \"TotalBsmtSF\", \"CentralAir\",\n",
        "           \"1stFlrSF\", \"2ndFlrSF\", \"FullBath\", \"BedroomAbvGr\", \"KitchenAbvGr\", \"TotRmsAbvGrd\", \"GarageArea\", \"PoolArea\", ]\n",
        "X = trainData[features]\n",
        "\n",
        "age = 2025 - X.YearBuilt\n",
        "X = X.drop(\"YearBuilt\", axis=1)\n",
        "X = pd.concat([X, age], axis=1)\n",
        "X.rename(columns={\"YearBuilt\": \"Age\"}, inplace=True)\n",
        "\n",
        "X_train, X_valid, y_train, y_valid = train_test_split(X, y, random_state=1)"
      ],
      "metadata": {
        "trusted": true,
        "execution": {
          "iopub.status.busy": "2025-01-23T17:45:46.638215Z",
          "iopub.execute_input": "2025-01-23T17:45:46.638746Z",
          "iopub.status.idle": "2025-01-23T17:45:46.692558Z",
          "shell.execute_reply.started": "2025-01-23T17:45:46.638707Z",
          "shell.execute_reply": "2025-01-23T17:45:46.691476Z"
        },
        "id": "CJTECIRGpRK5"
      },
      "outputs": [],
      "execution_count": null
    },
    {
      "cell_type": "code",
      "source": [
        "from sklearn.ensemble import RandomForestRegressor\n",
        "from sklearn.model_selection import GridSearchCV\n",
        "from sklearn.metrics import mean_absolute_error\n",
        "from sklearn.compose import ColumnTransformer\n",
        "from sklearn.pipeline import Pipeline\n",
        "from sklearn.impute import SimpleImputer\n",
        "from sklearn.preprocessing import OrdinalEncoder\n",
        "from sklearn.preprocessing import OneHotEncoder\n",
        "\n",
        "numerical_transformer = SimpleImputer(strategy=\"constant\", fill_value=0)\n",
        "\n",
        "categorical_transformer = Pipeline(steps=[\n",
        "    (\"imputer\", SimpleImputer(strategy='most_frequent')),\n",
        "    (\"onehot\", OneHotEncoder(handle_unknown='ignore'))\n",
        "])\n",
        "\n",
        "preprocessor = ColumnTransformer(\n",
        "    transformers=[\n",
        "        (\"num\", numerical_transformer,[\"LotArea\", \"OverallQual\", \"OverallCond\", \"TotalBsmtSF\", \"1stFlrSF\", \"2ndFlrSF\", \"FullBath\", \"BedroomAbvGr\",\n",
        "                                       \"KitchenAbvGr\", \"TotRmsAbvGrd\", \"GarageArea\", \"PoolArea\", \"Age\"]),\n",
        "        (\"cat\", categorical_transformer, [\"MSZoning\", \"Street\", \"Alley\", \"CentralAir\"])\n",
        "    ])\n",
        "\n",
        "param_grid = {\n",
        "    \"model__n_estimators\": [50, 100, 200],\n",
        "    \"model__max_depth\": [None, 10, 20, 30],\n",
        "    # \"model__min_samples_split\": [2, 5, 10]\n",
        "    # \"model__min_samples_leaf\": [1, 2, 5]\n",
        "    # \"model__max_features\": [\"auto\", \"sqrt\", \"log2\"]\n",
        "    \"preprocessor__cat__imputer__strategy\": [\"most_frequent\", \"constant\"]\n",
        "}\n",
        "\n",
        "model = RandomForestRegressor(random_state=0, criterion=\"absolute_error\")\n",
        "\n",
        "pipeline = Pipeline(steps=[(\"preprocessor\", preprocessor),\n",
        "                           (\"model\", model)\n",
        "                          ])\n",
        "\n",
        "grid_search = GridSearchCV(pipeline, param_grid, cv=5, scoring=\"neg_mean_absolute_error\")\n",
        "grid_search.fit(X_train, y_train)\n",
        "\n",
        "predictions = grid_search.predict(X_valid)\n",
        "\n",
        "score = mean_absolute_error(y_valid, predictions)\n",
        "print('MAE:', score)"
      ],
      "metadata": {
        "trusted": true,
        "execution": {
          "iopub.status.busy": "2025-01-23T17:47:30.932917Z",
          "iopub.execute_input": "2025-01-23T17:47:30.933353Z"
        },
        "id": "eC85LUrvpRK5"
      },
      "outputs": [],
      "execution_count": null
    },
    {
      "cell_type": "code",
      "source": [
        "testFilepath = \"/kaggle/input/home-data-for-ml-course/test.csv\"\n",
        "testData = pd.read_csv(testFilepath)\n",
        "\n",
        "X_test = testData[features]\n",
        "\n",
        "age_test = 2025 - X_test.YearBuilt\n",
        "X_test = X_test.drop(\"YearBuilt\", axis=1)\n",
        "X_test = pd.concat([X_test, age_test], axis=1)\n",
        "X_test.rename(columns={\"YearBuilt\": \"Age\"}, inplace=True)\n",
        "\n",
        "testPredictions = grid_search.predict(X_test)\n",
        "\n",
        "output = pd.DataFrame({\"Id\": testData.Id, \"SalePrice\": testPredictions})\n",
        "output.to_csv(\"submission.csv\", index=False)\n",
        "\n",
        "print(\"Output saved\")"
      ],
      "metadata": {
        "trusted": true,
        "execution": {
          "iopub.status.busy": "2025-01-23T17:47:21.314653Z",
          "iopub.status.idle": "2025-01-23T17:47:21.315047Z",
          "shell.execute_reply": "2025-01-23T17:47:21.314881Z"
        },
        "id": "jCNGs9pXpRK6"
      },
      "outputs": [],
      "execution_count": null
    }
  ]
}